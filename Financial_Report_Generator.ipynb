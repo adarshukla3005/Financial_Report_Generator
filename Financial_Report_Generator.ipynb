{
  "nbformat": 4,
  "nbformat_minor": 0,
  "metadata": {
    "colab": {
      "provenance": [],
      "include_colab_link": true
    },
    "kernelspec": {
      "name": "python3",
      "display_name": "Python 3"
    },
    "language_info": {
      "name": "python"
    }
  },
  "cells": [
    {
      "cell_type": "markdown",
      "metadata": {
        "id": "view-in-github",
        "colab_type": "text"
      },
      "source": [
        "<a href=\"https://colab.research.google.com/github/adarshukla3005/Financial_Report_Generator/blob/main/Financial_Report_Generator.ipynb\" target=\"_parent\"><img src=\"https://colab.research.google.com/assets/colab-badge.svg\" alt=\"Open In Colab\"/></a>"
      ]
    },
    {
      "cell_type": "markdown",
      "source": [
        "# **LLM + RAG Projects on Finance Domain**\n",
        "\n",
        "This notebook contains the use cases of RAG and LLM in Finance Domain using Python + Langchain and Open Source LLMs and Vector DBs.\n",
        "\n",
        "![](https://marcabraham.files.wordpress.com/2024/03/raga-retrieval-augmented-generation-and-actions.png?w=1024)"
      ],
      "metadata": {
        "id": "se7JaGtMP27J"
      }
    },
    {
      "cell_type": "markdown",
      "source": [
        "# **Developing a Financial Report Using Economic Indicators from an API**  \n",
        "Utilizing the Financial Modelling Prep API to gather Market Economic Indicators.\n",
        "\n",
        "**Problem Statement:**  \n",
        "Creating a financial report for a company or stock using the latest market and economic data, without the need for training or fine-tuning large language models (LLMs) or machine learning models.\n",
        "\n",
        "**Project Methodology:**\n",
        "- This project leverages an open-source API to retrieve the latest financial and market data related to company metrics and economic indicators.\n",
        "- Python is used to process and save this data into a CSV file.\n",
        "- The CSV file is then loaded into a Vector Database with the help of an embedding model from Hugging Face.\n",
        "- A Retrieval-Augmented Generation (RAG) question-answering (QA) chain is built using Langchain, and the RAG architecture is implemented with the Falcon 7B LLM (an open-source model).\n",
        "- The system is tested by querying the built model and analyzing the responses.\n",
        "\n",
        "**NOTE:**  \n",
        "While this tutorial uses open-source LLMs, the accuracy of the responses might not be as high. However, using models such as OpenAI's GPT or Meta's LLAMA can significantly improve the output accuracy, even with the same code."
      ],
      "metadata": {
        "id": "atrU6fljvQUB"
      }
    },
    {
      "cell_type": "code",
      "source": [
        "from google.colab import userdata\n",
        "userdata.get('api_key')\n",
        "\n",
        "try:\n",
        "    from urllib.request import urlopen\n",
        "except ImportError:\n",
        "    from urllib2 import urlopen\n",
        "\n",
        "import certifi\n",
        "import json\n",
        "import pandas as pd\n",
        "\n",
        "\n",
        "def get_jsonparsed_data(url, api_key, exchange):\n",
        "  if exchange == \"NSE\":\n",
        "    url = f\"https://financialmodelingprep.com/api/v3/search?query={ticker}&exchange=NSE&apikey={api_key}\"\n",
        "  else:\n",
        "    url = f\"https://financialmodelingprep.com/api/v3/quote/{ticker}?apikey={api_key}\"\n",
        "  response = urlopen(url, cafile=certifi.where())\n",
        "  data = response.read().decode(\"utf-8\")\n",
        "  return json.loads(data)\n",
        "\n",
        "api_key = userdata.get('api_key2')\n",
        "ticker = \"AAPL\"\n",
        "exchange = \"US\"\n",
        "eco_ind = pd.DataFrame(get_jsonparsed_data(ticker, api_key,exchange))\n",
        "eco_ind"
      ],
      "metadata": {
        "colab": {
          "base_uri": "https://localhost:8080/",
          "height": 147
        },
        "id": "UejqRrVqvQCT",
        "outputId": "b8e31ccd-f788-4108-8be7-465e508533c6"
      },
      "execution_count": 49,
      "outputs": [
        {
          "output_type": "execute_result",
          "data": {
            "text/plain": [
              "  symbol        name  price  changesPercentage  change  dayLow  dayHigh  \\\n",
              "0   AAPL  Apple Inc.    214            0.23889    0.51  209.98   215.22   \n",
              "\n",
              "   yearHigh  yearLow      marketCap  ...  exchange    volume avgVolume  \\\n",
              "0     260.1   164.08  3214729400000  ...    NASDAQ  47841607  53441279   \n",
              "\n",
              "     open  previousClose   eps    pe          earningsAnnouncement  \\\n",
              "0  213.36         213.49  6.97  30.7  2025-04-30T10:59:00.000+0000   \n",
              "\n",
              "   sharesOutstanding   timestamp  \n",
              "0        15022100000  1742241601  \n",
              "\n",
              "[1 rows x 22 columns]"
            ],
            "text/html": [
              "\n",
              "  <div id=\"df-323e618f-667a-44ef-86fc-6047a56b30de\" class=\"colab-df-container\">\n",
              "    <div>\n",
              "<style scoped>\n",
              "    .dataframe tbody tr th:only-of-type {\n",
              "        vertical-align: middle;\n",
              "    }\n",
              "\n",
              "    .dataframe tbody tr th {\n",
              "        vertical-align: top;\n",
              "    }\n",
              "\n",
              "    .dataframe thead th {\n",
              "        text-align: right;\n",
              "    }\n",
              "</style>\n",
              "<table border=\"1\" class=\"dataframe\">\n",
              "  <thead>\n",
              "    <tr style=\"text-align: right;\">\n",
              "      <th></th>\n",
              "      <th>symbol</th>\n",
              "      <th>name</th>\n",
              "      <th>price</th>\n",
              "      <th>changesPercentage</th>\n",
              "      <th>change</th>\n",
              "      <th>dayLow</th>\n",
              "      <th>dayHigh</th>\n",
              "      <th>yearHigh</th>\n",
              "      <th>yearLow</th>\n",
              "      <th>marketCap</th>\n",
              "      <th>...</th>\n",
              "      <th>exchange</th>\n",
              "      <th>volume</th>\n",
              "      <th>avgVolume</th>\n",
              "      <th>open</th>\n",
              "      <th>previousClose</th>\n",
              "      <th>eps</th>\n",
              "      <th>pe</th>\n",
              "      <th>earningsAnnouncement</th>\n",
              "      <th>sharesOutstanding</th>\n",
              "      <th>timestamp</th>\n",
              "    </tr>\n",
              "  </thead>\n",
              "  <tbody>\n",
              "    <tr>\n",
              "      <th>0</th>\n",
              "      <td>AAPL</td>\n",
              "      <td>Apple Inc.</td>\n",
              "      <td>214</td>\n",
              "      <td>0.23889</td>\n",
              "      <td>0.51</td>\n",
              "      <td>209.98</td>\n",
              "      <td>215.22</td>\n",
              "      <td>260.1</td>\n",
              "      <td>164.08</td>\n",
              "      <td>3214729400000</td>\n",
              "      <td>...</td>\n",
              "      <td>NASDAQ</td>\n",
              "      <td>47841607</td>\n",
              "      <td>53441279</td>\n",
              "      <td>213.36</td>\n",
              "      <td>213.49</td>\n",
              "      <td>6.97</td>\n",
              "      <td>30.7</td>\n",
              "      <td>2025-04-30T10:59:00.000+0000</td>\n",
              "      <td>15022100000</td>\n",
              "      <td>1742241601</td>\n",
              "    </tr>\n",
              "  </tbody>\n",
              "</table>\n",
              "<p>1 rows × 22 columns</p>\n",
              "</div>\n",
              "    <div class=\"colab-df-buttons\">\n",
              "\n",
              "  <div class=\"colab-df-container\">\n",
              "    <button class=\"colab-df-convert\" onclick=\"convertToInteractive('df-323e618f-667a-44ef-86fc-6047a56b30de')\"\n",
              "            title=\"Convert this dataframe to an interactive table.\"\n",
              "            style=\"display:none;\">\n",
              "\n",
              "  <svg xmlns=\"http://www.w3.org/2000/svg\" height=\"24px\" viewBox=\"0 -960 960 960\">\n",
              "    <path d=\"M120-120v-720h720v720H120Zm60-500h600v-160H180v160Zm220 220h160v-160H400v160Zm0 220h160v-160H400v160ZM180-400h160v-160H180v160Zm440 0h160v-160H620v160ZM180-180h160v-160H180v160Zm440 0h160v-160H620v160Z\"/>\n",
              "  </svg>\n",
              "    </button>\n",
              "\n",
              "  <style>\n",
              "    .colab-df-container {\n",
              "      display:flex;\n",
              "      gap: 12px;\n",
              "    }\n",
              "\n",
              "    .colab-df-convert {\n",
              "      background-color: #E8F0FE;\n",
              "      border: none;\n",
              "      border-radius: 50%;\n",
              "      cursor: pointer;\n",
              "      display: none;\n",
              "      fill: #1967D2;\n",
              "      height: 32px;\n",
              "      padding: 0 0 0 0;\n",
              "      width: 32px;\n",
              "    }\n",
              "\n",
              "    .colab-df-convert:hover {\n",
              "      background-color: #E2EBFA;\n",
              "      box-shadow: 0px 1px 2px rgba(60, 64, 67, 0.3), 0px 1px 3px 1px rgba(60, 64, 67, 0.15);\n",
              "      fill: #174EA6;\n",
              "    }\n",
              "\n",
              "    .colab-df-buttons div {\n",
              "      margin-bottom: 4px;\n",
              "    }\n",
              "\n",
              "    [theme=dark] .colab-df-convert {\n",
              "      background-color: #3B4455;\n",
              "      fill: #D2E3FC;\n",
              "    }\n",
              "\n",
              "    [theme=dark] .colab-df-convert:hover {\n",
              "      background-color: #434B5C;\n",
              "      box-shadow: 0px 1px 3px 1px rgba(0, 0, 0, 0.15);\n",
              "      filter: drop-shadow(0px 1px 2px rgba(0, 0, 0, 0.3));\n",
              "      fill: #FFFFFF;\n",
              "    }\n",
              "  </style>\n",
              "\n",
              "    <script>\n",
              "      const buttonEl =\n",
              "        document.querySelector('#df-323e618f-667a-44ef-86fc-6047a56b30de button.colab-df-convert');\n",
              "      buttonEl.style.display =\n",
              "        google.colab.kernel.accessAllowed ? 'block' : 'none';\n",
              "\n",
              "      async function convertToInteractive(key) {\n",
              "        const element = document.querySelector('#df-323e618f-667a-44ef-86fc-6047a56b30de');\n",
              "        const dataTable =\n",
              "          await google.colab.kernel.invokeFunction('convertToInteractive',\n",
              "                                                    [key], {});\n",
              "        if (!dataTable) return;\n",
              "\n",
              "        const docLinkHtml = 'Like what you see? Visit the ' +\n",
              "          '<a target=\"_blank\" href=https://colab.research.google.com/notebooks/data_table.ipynb>data table notebook</a>'\n",
              "          + ' to learn more about interactive tables.';\n",
              "        element.innerHTML = '';\n",
              "        dataTable['output_type'] = 'display_data';\n",
              "        await google.colab.output.renderOutput(dataTable, element);\n",
              "        const docLink = document.createElement('div');\n",
              "        docLink.innerHTML = docLinkHtml;\n",
              "        element.appendChild(docLink);\n",
              "      }\n",
              "    </script>\n",
              "  </div>\n",
              "\n",
              "\n",
              "  <div id=\"id_b36f2760-af65-4369-b460-ab5e45f67cc1\">\n",
              "    <style>\n",
              "      .colab-df-generate {\n",
              "        background-color: #E8F0FE;\n",
              "        border: none;\n",
              "        border-radius: 50%;\n",
              "        cursor: pointer;\n",
              "        display: none;\n",
              "        fill: #1967D2;\n",
              "        height: 32px;\n",
              "        padding: 0 0 0 0;\n",
              "        width: 32px;\n",
              "      }\n",
              "\n",
              "      .colab-df-generate:hover {\n",
              "        background-color: #E2EBFA;\n",
              "        box-shadow: 0px 1px 2px rgba(60, 64, 67, 0.3), 0px 1px 3px 1px rgba(60, 64, 67, 0.15);\n",
              "        fill: #174EA6;\n",
              "      }\n",
              "\n",
              "      [theme=dark] .colab-df-generate {\n",
              "        background-color: #3B4455;\n",
              "        fill: #D2E3FC;\n",
              "      }\n",
              "\n",
              "      [theme=dark] .colab-df-generate:hover {\n",
              "        background-color: #434B5C;\n",
              "        box-shadow: 0px 1px 3px 1px rgba(0, 0, 0, 0.15);\n",
              "        filter: drop-shadow(0px 1px 2px rgba(0, 0, 0, 0.3));\n",
              "        fill: #FFFFFF;\n",
              "      }\n",
              "    </style>\n",
              "    <button class=\"colab-df-generate\" onclick=\"generateWithVariable('eco_ind')\"\n",
              "            title=\"Generate code using this dataframe.\"\n",
              "            style=\"display:none;\">\n",
              "\n",
              "  <svg xmlns=\"http://www.w3.org/2000/svg\" height=\"24px\"viewBox=\"0 0 24 24\"\n",
              "       width=\"24px\">\n",
              "    <path d=\"M7,19H8.4L18.45,9,17,7.55,7,17.6ZM5,21V16.75L18.45,3.32a2,2,0,0,1,2.83,0l1.4,1.43a1.91,1.91,0,0,1,.58,1.4,1.91,1.91,0,0,1-.58,1.4L9.25,21ZM18.45,9,17,7.55Zm-12,3A5.31,5.31,0,0,0,4.9,8.1,5.31,5.31,0,0,0,1,6.5,5.31,5.31,0,0,0,4.9,4.9,5.31,5.31,0,0,0,6.5,1,5.31,5.31,0,0,0,8.1,4.9,5.31,5.31,0,0,0,12,6.5,5.46,5.46,0,0,0,6.5,12Z\"/>\n",
              "  </svg>\n",
              "    </button>\n",
              "    <script>\n",
              "      (() => {\n",
              "      const buttonEl =\n",
              "        document.querySelector('#id_b36f2760-af65-4369-b460-ab5e45f67cc1 button.colab-df-generate');\n",
              "      buttonEl.style.display =\n",
              "        google.colab.kernel.accessAllowed ? 'block' : 'none';\n",
              "\n",
              "      buttonEl.onclick = () => {\n",
              "        google.colab.notebook.generateWithVariable('eco_ind');\n",
              "      }\n",
              "      })();\n",
              "    </script>\n",
              "  </div>\n",
              "\n",
              "    </div>\n",
              "  </div>\n"
            ],
            "application/vnd.google.colaboratory.intrinsic+json": {
              "type": "dataframe",
              "variable_name": "eco_ind"
            }
          },
          "metadata": {},
          "execution_count": 49
        }
      ]
    },
    {
      "cell_type": "markdown",
      "source": [
        "### Installing the Langchain Libraries"
      ],
      "metadata": {
        "id": "3_njvKT31FyT"
      }
    },
    {
      "cell_type": "code",
      "source": [
        "!pip install langchain langchain-community langchain-core transformers"
      ],
      "metadata": {
        "id": "qO2ijrFvv1MR",
        "colab": {
          "base_uri": "https://localhost:8080/"
        },
        "outputId": "b3c3d669-f649-4997-d56d-5811776b43e4"
      },
      "execution_count": 50,
      "outputs": [
        {
          "output_type": "stream",
          "name": "stdout",
          "text": [
            "Requirement already satisfied: langchain in /usr/local/lib/python3.11/dist-packages (0.3.20)\n",
            "Requirement already satisfied: langchain-community in /usr/local/lib/python3.11/dist-packages (0.3.19)\n",
            "Requirement already satisfied: langchain-core in /usr/local/lib/python3.11/dist-packages (0.3.44)\n",
            "Requirement already satisfied: transformers in /usr/local/lib/python3.11/dist-packages (4.48.3)\n",
            "Requirement already satisfied: langchain-text-splitters<1.0.0,>=0.3.6 in /usr/local/lib/python3.11/dist-packages (from langchain) (0.3.6)\n",
            "Requirement already satisfied: langsmith<0.4,>=0.1.17 in /usr/local/lib/python3.11/dist-packages (from langchain) (0.3.13)\n",
            "Requirement already satisfied: pydantic<3.0.0,>=2.7.4 in /usr/local/lib/python3.11/dist-packages (from langchain) (2.10.6)\n",
            "Requirement already satisfied: SQLAlchemy<3,>=1.4 in /usr/local/lib/python3.11/dist-packages (from langchain) (2.0.39)\n",
            "Requirement already satisfied: requests<3,>=2 in /usr/local/lib/python3.11/dist-packages (from langchain) (2.32.3)\n",
            "Requirement already satisfied: PyYAML>=5.3 in /usr/local/lib/python3.11/dist-packages (from langchain) (6.0.2)\n",
            "Requirement already satisfied: aiohttp<4.0.0,>=3.8.3 in /usr/local/lib/python3.11/dist-packages (from langchain-community) (3.11.13)\n",
            "Requirement already satisfied: tenacity!=8.4.0,<10,>=8.1.0 in /usr/local/lib/python3.11/dist-packages (from langchain-community) (9.0.0)\n",
            "Requirement already satisfied: dataclasses-json<0.7,>=0.5.7 in /usr/local/lib/python3.11/dist-packages (from langchain-community) (0.6.7)\n",
            "Requirement already satisfied: pydantic-settings<3.0.0,>=2.4.0 in /usr/local/lib/python3.11/dist-packages (from langchain-community) (2.8.1)\n",
            "Requirement already satisfied: httpx-sse<1.0.0,>=0.4.0 in /usr/local/lib/python3.11/dist-packages (from langchain-community) (0.4.0)\n",
            "Requirement already satisfied: numpy<3,>=1.26.2 in /usr/local/lib/python3.11/dist-packages (from langchain-community) (2.0.2)\n",
            "Requirement already satisfied: jsonpatch<2.0,>=1.33 in /usr/local/lib/python3.11/dist-packages (from langchain-core) (1.33)\n",
            "Requirement already satisfied: packaging<25,>=23.2 in /usr/local/lib/python3.11/dist-packages (from langchain-core) (24.2)\n",
            "Requirement already satisfied: typing-extensions>=4.7 in /usr/local/lib/python3.11/dist-packages (from langchain-core) (4.12.2)\n",
            "Requirement already satisfied: filelock in /usr/local/lib/python3.11/dist-packages (from transformers) (3.17.0)\n",
            "Requirement already satisfied: huggingface-hub<1.0,>=0.24.0 in /usr/local/lib/python3.11/dist-packages (from transformers) (0.28.1)\n",
            "Requirement already satisfied: regex!=2019.12.17 in /usr/local/lib/python3.11/dist-packages (from transformers) (2024.11.6)\n",
            "Requirement already satisfied: tokenizers<0.22,>=0.21 in /usr/local/lib/python3.11/dist-packages (from transformers) (0.21.1)\n",
            "Requirement already satisfied: safetensors>=0.4.1 in /usr/local/lib/python3.11/dist-packages (from transformers) (0.5.3)\n",
            "Requirement already satisfied: tqdm>=4.27 in /usr/local/lib/python3.11/dist-packages (from transformers) (4.67.1)\n",
            "Requirement already satisfied: aiohappyeyeballs>=2.3.0 in /usr/local/lib/python3.11/dist-packages (from aiohttp<4.0.0,>=3.8.3->langchain-community) (2.6.1)\n",
            "Requirement already satisfied: aiosignal>=1.1.2 in /usr/local/lib/python3.11/dist-packages (from aiohttp<4.0.0,>=3.8.3->langchain-community) (1.3.2)\n",
            "Requirement already satisfied: attrs>=17.3.0 in /usr/local/lib/python3.11/dist-packages (from aiohttp<4.0.0,>=3.8.3->langchain-community) (25.3.0)\n",
            "Requirement already satisfied: frozenlist>=1.1.1 in /usr/local/lib/python3.11/dist-packages (from aiohttp<4.0.0,>=3.8.3->langchain-community) (1.5.0)\n",
            "Requirement already satisfied: multidict<7.0,>=4.5 in /usr/local/lib/python3.11/dist-packages (from aiohttp<4.0.0,>=3.8.3->langchain-community) (6.1.0)\n",
            "Requirement already satisfied: propcache>=0.2.0 in /usr/local/lib/python3.11/dist-packages (from aiohttp<4.0.0,>=3.8.3->langchain-community) (0.3.0)\n",
            "Requirement already satisfied: yarl<2.0,>=1.17.0 in /usr/local/lib/python3.11/dist-packages (from aiohttp<4.0.0,>=3.8.3->langchain-community) (1.18.3)\n",
            "Requirement already satisfied: marshmallow<4.0.0,>=3.18.0 in /usr/local/lib/python3.11/dist-packages (from dataclasses-json<0.7,>=0.5.7->langchain-community) (3.26.1)\n",
            "Requirement already satisfied: typing-inspect<1,>=0.4.0 in /usr/local/lib/python3.11/dist-packages (from dataclasses-json<0.7,>=0.5.7->langchain-community) (0.9.0)\n",
            "Requirement already satisfied: fsspec>=2023.5.0 in /usr/local/lib/python3.11/dist-packages (from huggingface-hub<1.0,>=0.24.0->transformers) (2024.10.0)\n",
            "Requirement already satisfied: jsonpointer>=1.9 in /usr/local/lib/python3.11/dist-packages (from jsonpatch<2.0,>=1.33->langchain-core) (3.0.0)\n",
            "Requirement already satisfied: httpx<1,>=0.23.0 in /usr/local/lib/python3.11/dist-packages (from langsmith<0.4,>=0.1.17->langchain) (0.28.1)\n",
            "Requirement already satisfied: orjson<4.0.0,>=3.9.14 in /usr/local/lib/python3.11/dist-packages (from langsmith<0.4,>=0.1.17->langchain) (3.10.15)\n",
            "Requirement already satisfied: requests-toolbelt<2.0.0,>=1.0.0 in /usr/local/lib/python3.11/dist-packages (from langsmith<0.4,>=0.1.17->langchain) (1.0.0)\n",
            "Requirement already satisfied: zstandard<0.24.0,>=0.23.0 in /usr/local/lib/python3.11/dist-packages (from langsmith<0.4,>=0.1.17->langchain) (0.23.0)\n",
            "Requirement already satisfied: annotated-types>=0.6.0 in /usr/local/lib/python3.11/dist-packages (from pydantic<3.0.0,>=2.7.4->langchain) (0.7.0)\n",
            "Requirement already satisfied: pydantic-core==2.27.2 in /usr/local/lib/python3.11/dist-packages (from pydantic<3.0.0,>=2.7.4->langchain) (2.27.2)\n",
            "Requirement already satisfied: python-dotenv>=0.21.0 in /usr/local/lib/python3.11/dist-packages (from pydantic-settings<3.0.0,>=2.4.0->langchain-community) (1.0.1)\n",
            "Requirement already satisfied: charset-normalizer<4,>=2 in /usr/local/lib/python3.11/dist-packages (from requests<3,>=2->langchain) (3.4.1)\n",
            "Requirement already satisfied: idna<4,>=2.5 in /usr/local/lib/python3.11/dist-packages (from requests<3,>=2->langchain) (3.10)\n",
            "Requirement already satisfied: urllib3<3,>=1.21.1 in /usr/local/lib/python3.11/dist-packages (from requests<3,>=2->langchain) (2.3.0)\n",
            "Requirement already satisfied: certifi>=2017.4.17 in /usr/local/lib/python3.11/dist-packages (from requests<3,>=2->langchain) (2025.1.31)\n",
            "Requirement already satisfied: greenlet!=0.4.17 in /usr/local/lib/python3.11/dist-packages (from SQLAlchemy<3,>=1.4->langchain) (3.1.1)\n",
            "Requirement already satisfied: anyio in /usr/local/lib/python3.11/dist-packages (from httpx<1,>=0.23.0->langsmith<0.4,>=0.1.17->langchain) (3.7.1)\n",
            "Requirement already satisfied: httpcore==1.* in /usr/local/lib/python3.11/dist-packages (from httpx<1,>=0.23.0->langsmith<0.4,>=0.1.17->langchain) (1.0.7)\n",
            "Requirement already satisfied: h11<0.15,>=0.13 in /usr/local/lib/python3.11/dist-packages (from httpcore==1.*->httpx<1,>=0.23.0->langsmith<0.4,>=0.1.17->langchain) (0.14.0)\n",
            "Requirement already satisfied: mypy-extensions>=0.3.0 in /usr/local/lib/python3.11/dist-packages (from typing-inspect<1,>=0.4.0->dataclasses-json<0.7,>=0.5.7->langchain-community) (1.0.0)\n",
            "Requirement already satisfied: sniffio>=1.1 in /usr/local/lib/python3.11/dist-packages (from anyio->httpx<1,>=0.23.0->langsmith<0.4,>=0.1.17->langchain) (1.3.1)\n"
          ]
        }
      ]
    },
    {
      "cell_type": "code",
      "source": [
        "def preprocess_economic_data(df):\n",
        "    df['timestamp'] = pd.to_datetime(df['timestamp'])\n",
        "    df['earningsAnnouncement'] = pd.to_datetime(df['earningsAnnouncement'])\n",
        "    return df\n",
        "\n",
        "preprocessed_economic_df = preprocess_economic_data(eco_ind)\n",
        "preprocessed_economic_df"
      ],
      "metadata": {
        "colab": {
          "base_uri": "https://localhost:8080/",
          "height": 147
        },
        "id": "4fE3u3ti0NkU",
        "outputId": "18fb7387-e7a4-4202-f1cc-080a4a63c4b5"
      },
      "execution_count": 51,
      "outputs": [
        {
          "output_type": "execute_result",
          "data": {
            "text/plain": [
              "  symbol        name  price  changesPercentage  change  dayLow  dayHigh  \\\n",
              "0   AAPL  Apple Inc.    214            0.23889    0.51  209.98   215.22   \n",
              "\n",
              "   yearHigh  yearLow      marketCap  ...  exchange    volume avgVolume  \\\n",
              "0     260.1   164.08  3214729400000  ...    NASDAQ  47841607  53441279   \n",
              "\n",
              "     open  previousClose   eps    pe      earningsAnnouncement  \\\n",
              "0  213.36         213.49  6.97  30.7 2025-04-30 10:59:00+00:00   \n",
              "\n",
              "   sharesOutstanding                     timestamp  \n",
              "0        15022100000 1970-01-01 00:00:01.742241601  \n",
              "\n",
              "[1 rows x 22 columns]"
            ],
            "text/html": [
              "\n",
              "  <div id=\"df-8c2aaf55-5d65-4fb7-8c45-d6d86c5778e0\" class=\"colab-df-container\">\n",
              "    <div>\n",
              "<style scoped>\n",
              "    .dataframe tbody tr th:only-of-type {\n",
              "        vertical-align: middle;\n",
              "    }\n",
              "\n",
              "    .dataframe tbody tr th {\n",
              "        vertical-align: top;\n",
              "    }\n",
              "\n",
              "    .dataframe thead th {\n",
              "        text-align: right;\n",
              "    }\n",
              "</style>\n",
              "<table border=\"1\" class=\"dataframe\">\n",
              "  <thead>\n",
              "    <tr style=\"text-align: right;\">\n",
              "      <th></th>\n",
              "      <th>symbol</th>\n",
              "      <th>name</th>\n",
              "      <th>price</th>\n",
              "      <th>changesPercentage</th>\n",
              "      <th>change</th>\n",
              "      <th>dayLow</th>\n",
              "      <th>dayHigh</th>\n",
              "      <th>yearHigh</th>\n",
              "      <th>yearLow</th>\n",
              "      <th>marketCap</th>\n",
              "      <th>...</th>\n",
              "      <th>exchange</th>\n",
              "      <th>volume</th>\n",
              "      <th>avgVolume</th>\n",
              "      <th>open</th>\n",
              "      <th>previousClose</th>\n",
              "      <th>eps</th>\n",
              "      <th>pe</th>\n",
              "      <th>earningsAnnouncement</th>\n",
              "      <th>sharesOutstanding</th>\n",
              "      <th>timestamp</th>\n",
              "    </tr>\n",
              "  </thead>\n",
              "  <tbody>\n",
              "    <tr>\n",
              "      <th>0</th>\n",
              "      <td>AAPL</td>\n",
              "      <td>Apple Inc.</td>\n",
              "      <td>214</td>\n",
              "      <td>0.23889</td>\n",
              "      <td>0.51</td>\n",
              "      <td>209.98</td>\n",
              "      <td>215.22</td>\n",
              "      <td>260.1</td>\n",
              "      <td>164.08</td>\n",
              "      <td>3214729400000</td>\n",
              "      <td>...</td>\n",
              "      <td>NASDAQ</td>\n",
              "      <td>47841607</td>\n",
              "      <td>53441279</td>\n",
              "      <td>213.36</td>\n",
              "      <td>213.49</td>\n",
              "      <td>6.97</td>\n",
              "      <td>30.7</td>\n",
              "      <td>2025-04-30 10:59:00+00:00</td>\n",
              "      <td>15022100000</td>\n",
              "      <td>1970-01-01 00:00:01.742241601</td>\n",
              "    </tr>\n",
              "  </tbody>\n",
              "</table>\n",
              "<p>1 rows × 22 columns</p>\n",
              "</div>\n",
              "    <div class=\"colab-df-buttons\">\n",
              "\n",
              "  <div class=\"colab-df-container\">\n",
              "    <button class=\"colab-df-convert\" onclick=\"convertToInteractive('df-8c2aaf55-5d65-4fb7-8c45-d6d86c5778e0')\"\n",
              "            title=\"Convert this dataframe to an interactive table.\"\n",
              "            style=\"display:none;\">\n",
              "\n",
              "  <svg xmlns=\"http://www.w3.org/2000/svg\" height=\"24px\" viewBox=\"0 -960 960 960\">\n",
              "    <path d=\"M120-120v-720h720v720H120Zm60-500h600v-160H180v160Zm220 220h160v-160H400v160Zm0 220h160v-160H400v160ZM180-400h160v-160H180v160Zm440 0h160v-160H620v160ZM180-180h160v-160H180v160Zm440 0h160v-160H620v160Z\"/>\n",
              "  </svg>\n",
              "    </button>\n",
              "\n",
              "  <style>\n",
              "    .colab-df-container {\n",
              "      display:flex;\n",
              "      gap: 12px;\n",
              "    }\n",
              "\n",
              "    .colab-df-convert {\n",
              "      background-color: #E8F0FE;\n",
              "      border: none;\n",
              "      border-radius: 50%;\n",
              "      cursor: pointer;\n",
              "      display: none;\n",
              "      fill: #1967D2;\n",
              "      height: 32px;\n",
              "      padding: 0 0 0 0;\n",
              "      width: 32px;\n",
              "    }\n",
              "\n",
              "    .colab-df-convert:hover {\n",
              "      background-color: #E2EBFA;\n",
              "      box-shadow: 0px 1px 2px rgba(60, 64, 67, 0.3), 0px 1px 3px 1px rgba(60, 64, 67, 0.15);\n",
              "      fill: #174EA6;\n",
              "    }\n",
              "\n",
              "    .colab-df-buttons div {\n",
              "      margin-bottom: 4px;\n",
              "    }\n",
              "\n",
              "    [theme=dark] .colab-df-convert {\n",
              "      background-color: #3B4455;\n",
              "      fill: #D2E3FC;\n",
              "    }\n",
              "\n",
              "    [theme=dark] .colab-df-convert:hover {\n",
              "      background-color: #434B5C;\n",
              "      box-shadow: 0px 1px 3px 1px rgba(0, 0, 0, 0.15);\n",
              "      filter: drop-shadow(0px 1px 2px rgba(0, 0, 0, 0.3));\n",
              "      fill: #FFFFFF;\n",
              "    }\n",
              "  </style>\n",
              "\n",
              "    <script>\n",
              "      const buttonEl =\n",
              "        document.querySelector('#df-8c2aaf55-5d65-4fb7-8c45-d6d86c5778e0 button.colab-df-convert');\n",
              "      buttonEl.style.display =\n",
              "        google.colab.kernel.accessAllowed ? 'block' : 'none';\n",
              "\n",
              "      async function convertToInteractive(key) {\n",
              "        const element = document.querySelector('#df-8c2aaf55-5d65-4fb7-8c45-d6d86c5778e0');\n",
              "        const dataTable =\n",
              "          await google.colab.kernel.invokeFunction('convertToInteractive',\n",
              "                                                    [key], {});\n",
              "        if (!dataTable) return;\n",
              "\n",
              "        const docLinkHtml = 'Like what you see? Visit the ' +\n",
              "          '<a target=\"_blank\" href=https://colab.research.google.com/notebooks/data_table.ipynb>data table notebook</a>'\n",
              "          + ' to learn more about interactive tables.';\n",
              "        element.innerHTML = '';\n",
              "        dataTable['output_type'] = 'display_data';\n",
              "        await google.colab.output.renderOutput(dataTable, element);\n",
              "        const docLink = document.createElement('div');\n",
              "        docLink.innerHTML = docLinkHtml;\n",
              "        element.appendChild(docLink);\n",
              "      }\n",
              "    </script>\n",
              "  </div>\n",
              "\n",
              "\n",
              "  <div id=\"id_c98b9787-0f1f-4cc9-b48a-ca51fa673bcd\">\n",
              "    <style>\n",
              "      .colab-df-generate {\n",
              "        background-color: #E8F0FE;\n",
              "        border: none;\n",
              "        border-radius: 50%;\n",
              "        cursor: pointer;\n",
              "        display: none;\n",
              "        fill: #1967D2;\n",
              "        height: 32px;\n",
              "        padding: 0 0 0 0;\n",
              "        width: 32px;\n",
              "      }\n",
              "\n",
              "      .colab-df-generate:hover {\n",
              "        background-color: #E2EBFA;\n",
              "        box-shadow: 0px 1px 2px rgba(60, 64, 67, 0.3), 0px 1px 3px 1px rgba(60, 64, 67, 0.15);\n",
              "        fill: #174EA6;\n",
              "      }\n",
              "\n",
              "      [theme=dark] .colab-df-generate {\n",
              "        background-color: #3B4455;\n",
              "        fill: #D2E3FC;\n",
              "      }\n",
              "\n",
              "      [theme=dark] .colab-df-generate:hover {\n",
              "        background-color: #434B5C;\n",
              "        box-shadow: 0px 1px 3px 1px rgba(0, 0, 0, 0.15);\n",
              "        filter: drop-shadow(0px 1px 2px rgba(0, 0, 0, 0.3));\n",
              "        fill: #FFFFFF;\n",
              "      }\n",
              "    </style>\n",
              "    <button class=\"colab-df-generate\" onclick=\"generateWithVariable('eco_ind')\"\n",
              "            title=\"Generate code using this dataframe.\"\n",
              "            style=\"display:none;\">\n",
              "\n",
              "  <svg xmlns=\"http://www.w3.org/2000/svg\" height=\"24px\"viewBox=\"0 0 24 24\"\n",
              "       width=\"24px\">\n",
              "    <path d=\"M7,19H8.4L18.45,9,17,7.55,7,17.6ZM5,21V16.75L18.45,3.32a2,2,0,0,1,2.83,0l1.4,1.43a1.91,1.91,0,0,1,.58,1.4,1.91,1.91,0,0,1-.58,1.4L9.25,21ZM18.45,9,17,7.55Zm-12,3A5.31,5.31,0,0,0,4.9,8.1,5.31,5.31,0,0,0,1,6.5,5.31,5.31,0,0,0,4.9,4.9,5.31,5.31,0,0,0,6.5,1,5.31,5.31,0,0,0,8.1,4.9,5.31,5.31,0,0,0,12,6.5,5.46,5.46,0,0,0,6.5,12Z\"/>\n",
              "  </svg>\n",
              "    </button>\n",
              "    <script>\n",
              "      (() => {\n",
              "      const buttonEl =\n",
              "        document.querySelector('#id_c98b9787-0f1f-4cc9-b48a-ca51fa673bcd button.colab-df-generate');\n",
              "      buttonEl.style.display =\n",
              "        google.colab.kernel.accessAllowed ? 'block' : 'none';\n",
              "\n",
              "      buttonEl.onclick = () => {\n",
              "        google.colab.notebook.generateWithVariable('eco_ind');\n",
              "      }\n",
              "      })();\n",
              "    </script>\n",
              "  </div>\n",
              "\n",
              "    </div>\n",
              "  </div>\n"
            ],
            "application/vnd.google.colaboratory.intrinsic+json": {
              "type": "dataframe",
              "variable_name": "eco_ind"
            }
          },
          "metadata": {},
          "execution_count": 51
        }
      ]
    },
    {
      "cell_type": "markdown",
      "source": [
        "### Storing the Pre-Processed Data into CSV"
      ],
      "metadata": {
        "id": "vB6Pqxw-1Js2"
      }
    },
    {
      "cell_type": "code",
      "source": [
        "preprocessed_economic_df.to_csv(\"eco_ind.csv\")"
      ],
      "metadata": {
        "id": "SjBCSabk2MLl"
      },
      "execution_count": 52,
      "outputs": []
    },
    {
      "cell_type": "markdown",
      "source": [
        "### Installing the Hugging Face Embedding Library"
      ],
      "metadata": {
        "id": "Mm6P8O0U1Mmh"
      }
    },
    {
      "cell_type": "code",
      "source": [
        "%pip install --upgrade --quiet  langchain sentence_transformers"
      ],
      "metadata": {
        "id": "v4M_vC-n2qpM"
      },
      "execution_count": 53,
      "outputs": []
    },
    {
      "cell_type": "code",
      "source": [
        "from langchain_community.embeddings import HuggingFaceEmbeddings\n",
        "hg_embeddings = HuggingFaceEmbeddings()"
      ],
      "metadata": {
        "id": "YG-jX0gK2zYh"
      },
      "execution_count": 54,
      "outputs": []
    },
    {
      "cell_type": "code",
      "source": [
        "from langchain.document_loaders import CSVLoader\n",
        "from langchain.text_splitter import RecursiveCharacterTextSplitter\n",
        "loader_eco = CSVLoader('eco_ind.csv')\n",
        "documents_eco = loader_eco.load()\n",
        "\n",
        "# Get your splitter ready\n",
        "text_splitter = RecursiveCharacterTextSplitter(chunk_size=50, chunk_overlap=5)\n",
        "\n",
        "# Split your docs into texts\n",
        "texts_eco = text_splitter.split_documents(documents_eco)\n",
        "\n",
        "# Embeddings\n",
        "embeddings = HuggingFaceEmbeddings()"
      ],
      "metadata": {
        "id": "f29_EHBt7NWi"
      },
      "execution_count": 55,
      "outputs": []
    },
    {
      "cell_type": "markdown",
      "source": [
        "### Building the Vector DB for RAG"
      ],
      "metadata": {
        "id": "3to6jsIL1Q8Z"
      }
    },
    {
      "cell_type": "code",
      "source": [
        "from langchain.vectorstores import Chroma\n",
        "\n",
        "persist_directory = 'docs/chroma_rag/'"
      ],
      "metadata": {
        "id": "-_tOru081yRn"
      },
      "execution_count": 56,
      "outputs": []
    },
    {
      "cell_type": "code",
      "source": [
        "!pip install chromadb"
      ],
      "metadata": {
        "colab": {
          "base_uri": "https://localhost:8080/"
        },
        "id": "cApW-caRdLHp",
        "outputId": "72f5a814-5043-4695-82a9-68c4443594c0"
      },
      "execution_count": 57,
      "outputs": [
        {
          "output_type": "stream",
          "name": "stdout",
          "text": [
            "Requirement already satisfied: chromadb in /usr/local/lib/python3.11/dist-packages (0.6.3)\n",
            "Requirement already satisfied: build>=1.0.3 in /usr/local/lib/python3.11/dist-packages (from chromadb) (1.2.2.post1)\n",
            "Requirement already satisfied: pydantic>=1.9 in /usr/local/lib/python3.11/dist-packages (from chromadb) (2.10.6)\n",
            "Requirement already satisfied: chroma-hnswlib==0.7.6 in /usr/local/lib/python3.11/dist-packages (from chromadb) (0.7.6)\n",
            "Requirement already satisfied: fastapi>=0.95.2 in /usr/local/lib/python3.11/dist-packages (from chromadb) (0.115.11)\n",
            "Requirement already satisfied: uvicorn>=0.18.3 in /usr/local/lib/python3.11/dist-packages (from uvicorn[standard]>=0.18.3->chromadb) (0.34.0)\n",
            "Requirement already satisfied: numpy>=1.22.5 in /usr/local/lib/python3.11/dist-packages (from chromadb) (2.0.2)\n",
            "Requirement already satisfied: posthog>=2.4.0 in /usr/local/lib/python3.11/dist-packages (from chromadb) (3.21.0)\n",
            "Requirement already satisfied: typing_extensions>=4.5.0 in /usr/local/lib/python3.11/dist-packages (from chromadb) (4.12.2)\n",
            "Requirement already satisfied: onnxruntime>=1.14.1 in /usr/local/lib/python3.11/dist-packages (from chromadb) (1.21.0)\n",
            "Requirement already satisfied: opentelemetry-api>=1.2.0 in /usr/local/lib/python3.11/dist-packages (from chromadb) (1.31.0)\n",
            "Requirement already satisfied: opentelemetry-exporter-otlp-proto-grpc>=1.2.0 in /usr/local/lib/python3.11/dist-packages (from chromadb) (1.31.0)\n",
            "Requirement already satisfied: opentelemetry-instrumentation-fastapi>=0.41b0 in /usr/local/lib/python3.11/dist-packages (from chromadb) (0.52b0)\n",
            "Requirement already satisfied: opentelemetry-sdk>=1.2.0 in /usr/local/lib/python3.11/dist-packages (from chromadb) (1.31.0)\n",
            "Requirement already satisfied: tokenizers>=0.13.2 in /usr/local/lib/python3.11/dist-packages (from chromadb) (0.21.1)\n",
            "Requirement already satisfied: pypika>=0.48.9 in /usr/local/lib/python3.11/dist-packages (from chromadb) (0.48.9)\n",
            "Requirement already satisfied: tqdm>=4.65.0 in /usr/local/lib/python3.11/dist-packages (from chromadb) (4.67.1)\n",
            "Requirement already satisfied: overrides>=7.3.1 in /usr/local/lib/python3.11/dist-packages (from chromadb) (7.7.0)\n",
            "Requirement already satisfied: importlib-resources in /usr/local/lib/python3.11/dist-packages (from chromadb) (6.5.2)\n",
            "Requirement already satisfied: grpcio>=1.58.0 in /usr/local/lib/python3.11/dist-packages (from chromadb) (1.71.0)\n",
            "Requirement already satisfied: bcrypt>=4.0.1 in /usr/local/lib/python3.11/dist-packages (from chromadb) (4.3.0)\n",
            "Requirement already satisfied: typer>=0.9.0 in /usr/local/lib/python3.11/dist-packages (from chromadb) (0.15.2)\n",
            "Requirement already satisfied: kubernetes>=28.1.0 in /usr/local/lib/python3.11/dist-packages (from chromadb) (32.0.1)\n",
            "Requirement already satisfied: tenacity>=8.2.3 in /usr/local/lib/python3.11/dist-packages (from chromadb) (9.0.0)\n",
            "Requirement already satisfied: PyYAML>=6.0.0 in /usr/local/lib/python3.11/dist-packages (from chromadb) (6.0.2)\n",
            "Requirement already satisfied: mmh3>=4.0.1 in /usr/local/lib/python3.11/dist-packages (from chromadb) (5.1.0)\n",
            "Requirement already satisfied: orjson>=3.9.12 in /usr/local/lib/python3.11/dist-packages (from chromadb) (3.10.15)\n",
            "Requirement already satisfied: httpx>=0.27.0 in /usr/local/lib/python3.11/dist-packages (from chromadb) (0.28.1)\n",
            "Requirement already satisfied: rich>=10.11.0 in /usr/local/lib/python3.11/dist-packages (from chromadb) (13.9.4)\n",
            "Requirement already satisfied: packaging>=19.1 in /usr/local/lib/python3.11/dist-packages (from build>=1.0.3->chromadb) (24.2)\n",
            "Requirement already satisfied: pyproject_hooks in /usr/local/lib/python3.11/dist-packages (from build>=1.0.3->chromadb) (1.2.0)\n",
            "Requirement already satisfied: starlette<0.47.0,>=0.40.0 in /usr/local/lib/python3.11/dist-packages (from fastapi>=0.95.2->chromadb) (0.46.1)\n",
            "Requirement already satisfied: anyio in /usr/local/lib/python3.11/dist-packages (from httpx>=0.27.0->chromadb) (3.7.1)\n",
            "Requirement already satisfied: certifi in /usr/local/lib/python3.11/dist-packages (from httpx>=0.27.0->chromadb) (2025.1.31)\n",
            "Requirement already satisfied: httpcore==1.* in /usr/local/lib/python3.11/dist-packages (from httpx>=0.27.0->chromadb) (1.0.7)\n",
            "Requirement already satisfied: idna in /usr/local/lib/python3.11/dist-packages (from httpx>=0.27.0->chromadb) (3.10)\n",
            "Requirement already satisfied: h11<0.15,>=0.13 in /usr/local/lib/python3.11/dist-packages (from httpcore==1.*->httpx>=0.27.0->chromadb) (0.14.0)\n",
            "Requirement already satisfied: six>=1.9.0 in /usr/local/lib/python3.11/dist-packages (from kubernetes>=28.1.0->chromadb) (1.17.0)\n",
            "Requirement already satisfied: python-dateutil>=2.5.3 in /usr/local/lib/python3.11/dist-packages (from kubernetes>=28.1.0->chromadb) (2.8.2)\n",
            "Requirement already satisfied: google-auth>=1.0.1 in /usr/local/lib/python3.11/dist-packages (from kubernetes>=28.1.0->chromadb) (2.38.0)\n",
            "Requirement already satisfied: websocket-client!=0.40.0,!=0.41.*,!=0.42.*,>=0.32.0 in /usr/local/lib/python3.11/dist-packages (from kubernetes>=28.1.0->chromadb) (1.8.0)\n",
            "Requirement already satisfied: requests in /usr/local/lib/python3.11/dist-packages (from kubernetes>=28.1.0->chromadb) (2.32.3)\n",
            "Requirement already satisfied: requests-oauthlib in /usr/local/lib/python3.11/dist-packages (from kubernetes>=28.1.0->chromadb) (2.0.0)\n",
            "Requirement already satisfied: oauthlib>=3.2.2 in /usr/local/lib/python3.11/dist-packages (from kubernetes>=28.1.0->chromadb) (3.2.2)\n",
            "Requirement already satisfied: urllib3>=1.24.2 in /usr/local/lib/python3.11/dist-packages (from kubernetes>=28.1.0->chromadb) (2.3.0)\n",
            "Requirement already satisfied: durationpy>=0.7 in /usr/local/lib/python3.11/dist-packages (from kubernetes>=28.1.0->chromadb) (0.9)\n",
            "Requirement already satisfied: coloredlogs in /usr/local/lib/python3.11/dist-packages (from onnxruntime>=1.14.1->chromadb) (15.0.1)\n",
            "Requirement already satisfied: flatbuffers in /usr/local/lib/python3.11/dist-packages (from onnxruntime>=1.14.1->chromadb) (25.2.10)\n",
            "Requirement already satisfied: protobuf in /usr/local/lib/python3.11/dist-packages (from onnxruntime>=1.14.1->chromadb) (5.29.3)\n",
            "Requirement already satisfied: sympy in /usr/local/lib/python3.11/dist-packages (from onnxruntime>=1.14.1->chromadb) (1.13.1)\n",
            "Requirement already satisfied: deprecated>=1.2.6 in /usr/local/lib/python3.11/dist-packages (from opentelemetry-api>=1.2.0->chromadb) (1.2.18)\n",
            "Requirement already satisfied: importlib-metadata<8.7.0,>=6.0 in /usr/local/lib/python3.11/dist-packages (from opentelemetry-api>=1.2.0->chromadb) (8.6.1)\n",
            "Requirement already satisfied: googleapis-common-protos~=1.52 in /usr/local/lib/python3.11/dist-packages (from opentelemetry-exporter-otlp-proto-grpc>=1.2.0->chromadb) (1.69.1)\n",
            "Requirement already satisfied: opentelemetry-exporter-otlp-proto-common==1.31.0 in /usr/local/lib/python3.11/dist-packages (from opentelemetry-exporter-otlp-proto-grpc>=1.2.0->chromadb) (1.31.0)\n",
            "Requirement already satisfied: opentelemetry-proto==1.31.0 in /usr/local/lib/python3.11/dist-packages (from opentelemetry-exporter-otlp-proto-grpc>=1.2.0->chromadb) (1.31.0)\n",
            "Requirement already satisfied: opentelemetry-instrumentation-asgi==0.52b0 in /usr/local/lib/python3.11/dist-packages (from opentelemetry-instrumentation-fastapi>=0.41b0->chromadb) (0.52b0)\n",
            "Requirement already satisfied: opentelemetry-instrumentation==0.52b0 in /usr/local/lib/python3.11/dist-packages (from opentelemetry-instrumentation-fastapi>=0.41b0->chromadb) (0.52b0)\n",
            "Requirement already satisfied: opentelemetry-semantic-conventions==0.52b0 in /usr/local/lib/python3.11/dist-packages (from opentelemetry-instrumentation-fastapi>=0.41b0->chromadb) (0.52b0)\n",
            "Requirement already satisfied: opentelemetry-util-http==0.52b0 in /usr/local/lib/python3.11/dist-packages (from opentelemetry-instrumentation-fastapi>=0.41b0->chromadb) (0.52b0)\n",
            "Requirement already satisfied: wrapt<2.0.0,>=1.0.0 in /usr/local/lib/python3.11/dist-packages (from opentelemetry-instrumentation==0.52b0->opentelemetry-instrumentation-fastapi>=0.41b0->chromadb) (1.17.2)\n",
            "Requirement already satisfied: asgiref~=3.0 in /usr/local/lib/python3.11/dist-packages (from opentelemetry-instrumentation-asgi==0.52b0->opentelemetry-instrumentation-fastapi>=0.41b0->chromadb) (3.8.1)\n",
            "Requirement already satisfied: monotonic>=1.5 in /usr/local/lib/python3.11/dist-packages (from posthog>=2.4.0->chromadb) (1.6)\n",
            "Requirement already satisfied: backoff>=1.10.0 in /usr/local/lib/python3.11/dist-packages (from posthog>=2.4.0->chromadb) (2.2.1)\n",
            "Requirement already satisfied: distro>=1.5.0 in /usr/local/lib/python3.11/dist-packages (from posthog>=2.4.0->chromadb) (1.9.0)\n",
            "Requirement already satisfied: annotated-types>=0.6.0 in /usr/local/lib/python3.11/dist-packages (from pydantic>=1.9->chromadb) (0.7.0)\n",
            "Requirement already satisfied: pydantic-core==2.27.2 in /usr/local/lib/python3.11/dist-packages (from pydantic>=1.9->chromadb) (2.27.2)\n",
            "Requirement already satisfied: markdown-it-py>=2.2.0 in /usr/local/lib/python3.11/dist-packages (from rich>=10.11.0->chromadb) (3.0.0)\n",
            "Requirement already satisfied: pygments<3.0.0,>=2.13.0 in /usr/local/lib/python3.11/dist-packages (from rich>=10.11.0->chromadb) (2.18.0)\n",
            "Requirement already satisfied: huggingface-hub<1.0,>=0.16.4 in /usr/local/lib/python3.11/dist-packages (from tokenizers>=0.13.2->chromadb) (0.28.1)\n",
            "Requirement already satisfied: click>=8.0.0 in /usr/local/lib/python3.11/dist-packages (from typer>=0.9.0->chromadb) (8.1.8)\n",
            "Requirement already satisfied: shellingham>=1.3.0 in /usr/local/lib/python3.11/dist-packages (from typer>=0.9.0->chromadb) (1.5.4)\n",
            "Requirement already satisfied: httptools>=0.6.3 in /usr/local/lib/python3.11/dist-packages (from uvicorn[standard]>=0.18.3->chromadb) (0.6.4)\n",
            "Requirement already satisfied: python-dotenv>=0.13 in /usr/local/lib/python3.11/dist-packages (from uvicorn[standard]>=0.18.3->chromadb) (1.0.1)\n",
            "Requirement already satisfied: uvloop!=0.15.0,!=0.15.1,>=0.14.0 in /usr/local/lib/python3.11/dist-packages (from uvicorn[standard]>=0.18.3->chromadb) (0.21.0)\n",
            "Requirement already satisfied: watchfiles>=0.13 in /usr/local/lib/python3.11/dist-packages (from uvicorn[standard]>=0.18.3->chromadb) (1.0.4)\n",
            "Requirement already satisfied: websockets>=10.4 in /usr/local/lib/python3.11/dist-packages (from uvicorn[standard]>=0.18.3->chromadb) (14.2)\n",
            "Requirement already satisfied: cachetools<6.0,>=2.0.0 in /usr/local/lib/python3.11/dist-packages (from google-auth>=1.0.1->kubernetes>=28.1.0->chromadb) (5.5.2)\n",
            "Requirement already satisfied: pyasn1-modules>=0.2.1 in /usr/local/lib/python3.11/dist-packages (from google-auth>=1.0.1->kubernetes>=28.1.0->chromadb) (0.4.1)\n",
            "Requirement already satisfied: rsa<5,>=3.1.4 in /usr/local/lib/python3.11/dist-packages (from google-auth>=1.0.1->kubernetes>=28.1.0->chromadb) (4.9)\n",
            "Requirement already satisfied: filelock in /usr/local/lib/python3.11/dist-packages (from huggingface-hub<1.0,>=0.16.4->tokenizers>=0.13.2->chromadb) (3.17.0)\n",
            "Requirement already satisfied: fsspec>=2023.5.0 in /usr/local/lib/python3.11/dist-packages (from huggingface-hub<1.0,>=0.16.4->tokenizers>=0.13.2->chromadb) (2024.10.0)\n",
            "Requirement already satisfied: zipp>=3.20 in /usr/local/lib/python3.11/dist-packages (from importlib-metadata<8.7.0,>=6.0->opentelemetry-api>=1.2.0->chromadb) (3.21.0)\n",
            "Requirement already satisfied: mdurl~=0.1 in /usr/local/lib/python3.11/dist-packages (from markdown-it-py>=2.2.0->rich>=10.11.0->chromadb) (0.1.2)\n",
            "Requirement already satisfied: charset-normalizer<4,>=2 in /usr/local/lib/python3.11/dist-packages (from requests->kubernetes>=28.1.0->chromadb) (3.4.1)\n",
            "Requirement already satisfied: sniffio>=1.1 in /usr/local/lib/python3.11/dist-packages (from anyio->httpx>=0.27.0->chromadb) (1.3.1)\n",
            "Requirement already satisfied: humanfriendly>=9.1 in /usr/local/lib/python3.11/dist-packages (from coloredlogs->onnxruntime>=1.14.1->chromadb) (10.0)\n",
            "Requirement already satisfied: mpmath<1.4,>=1.1.0 in /usr/local/lib/python3.11/dist-packages (from sympy->onnxruntime>=1.14.1->chromadb) (1.3.0)\n",
            "Requirement already satisfied: pyasn1<0.7.0,>=0.4.6 in /usr/local/lib/python3.11/dist-packages (from pyasn1-modules>=0.2.1->google-auth>=1.0.1->kubernetes>=28.1.0->chromadb) (0.6.1)\n"
          ]
        }
      ]
    },
    {
      "cell_type": "code",
      "source": [
        "economic_langchain_chroma = Chroma.from_documents(\n",
        "    documents=texts_eco,\n",
        "    collection_name=\"economic_data\",\n",
        "    embedding=hg_embeddings,\n",
        "    persist_directory=persist_directory\n",
        ")"
      ],
      "metadata": {
        "id": "2k-xGbN08W0R"
      },
      "execution_count": 58,
      "outputs": []
    },
    {
      "cell_type": "code",
      "source": [
        "question = \"Microsoft(MSFT)\"\n",
        "docs_eco = economic_langchain_chroma.similarity_search(question,k=3)"
      ],
      "metadata": {
        "id": "0Oyqi4X318LG"
      },
      "execution_count": 65,
      "outputs": []
    },
    {
      "cell_type": "markdown",
      "source": [
        "### Building RAG Chain using Vector DB and LLM"
      ],
      "metadata": {
        "id": "7C1duqTJ1T_K"
      }
    },
    {
      "cell_type": "code",
      "source": [
        "from langchain.chains import RetrievalQA\n",
        "from langchain.prompts import PromptTemplate\n",
        "from langchain_community.llms import HuggingFaceHub\n",
        "from IPython.display import display, Markdown\n",
        "import os\n",
        "import warnings\n",
        "warnings.filterwarnings('ignore')\n",
        "HUGGINGFACEHUB_API_TOKEN = userdata.get('api_key')\n",
        "\n",
        "llm = HuggingFaceHub(\n",
        "    repo_id=\"tiiuae/falcon-7b-instruct\",\n",
        "    model_kwargs={\"temperature\": 0.1},\n",
        ")\n",
        "\n",
        "retriever_eco = economic_langchain_chroma.as_retriever(search_kwargs={\"k\":2})\n",
        "qs=\"Microsoft(MSFT) Financial Report\"\n",
        "template = \"\"\"You are a Financial Market Expert and Get the Market Economic Data and Market News about Company and Build the Financial Report for me.\n",
        "              Understand this Market Information {context} and Answer the Query for this Company {question}. i just need the data into Tabular Form as well.\"\"\"\n",
        "\n",
        "PROMPT = PromptTemplate(input_variables=[\"context\",\"question\"], template=template)\n",
        "qa_with_sources = RetrievalQA.from_chain_type(llm=llm, chain_type=\"stuff\",chain_type_kwargs = {\"prompt\": PROMPT}, retriever=retriever_eco, return_source_documents=True)\n",
        "llm_response = qa_with_sources({\"query\": qs})"
      ],
      "metadata": {
        "id": "fCx35TE867Tu"
      },
      "execution_count": 66,
      "outputs": []
    },
    {
      "cell_type": "code",
      "source": [
        "import requests\n",
        "\n",
        "headers = {\"Authorization\": f\"Bearer {os.environ['HUGGINGFACEHUB_API_TOKEN']}\"}\n",
        "response = requests.get(\"https://api-inference.huggingface.co/models/tiiuae/falcon-7b-instruct\", headers=headers)\n",
        "\n",
        "print(response.status_code)\n",
        "print(response.json())"
      ],
      "metadata": {
        "colab": {
          "base_uri": "https://localhost:8080/"
        },
        "id": "CGfr5r6WemYv",
        "outputId": "39d9230f-38da-4371-b98b-542a4d8dd0ae"
      },
      "execution_count": 67,
      "outputs": [
        {
          "output_type": "stream",
          "name": "stdout",
          "text": [
            "200\n",
            "{'_id': '6447714d3411a0902bad9607', 'id': 'tiiuae/falcon-7b-instruct', 'sha': '8782b5c5d8c9290412416618f36a133653e85285', 'pipeline_tag': 'text-generation', 'library_name': 'transformers', 'private': False, 'gated': False, 'siblings': [], 'safetensors': {'parameters': {'BF16': 7217189760}}, 'tags': ['transformers', 'pytorch', 'coreml', 'safetensors', 'falcon', 'text-generation', 'conversational', 'custom_code', 'en', 'dataset:tiiuae/falcon-refinedweb', 'arxiv:2205.14135', 'arxiv:1911.02150', 'arxiv:2005.14165', 'arxiv:2104.09864', 'arxiv:2306.01116', 'license:apache-2.0', 'autotrain_compatible', 'text-generation-inference', 'endpoints_compatible', 'region:us'], 'cardData': {'tags': None, 'base_model': None}}\n"
          ]
        }
      ]
    },
    {
      "cell_type": "code",
      "source": [
        "Markdown(llm_response['result'])"
      ],
      "metadata": {
        "colab": {
          "base_uri": "https://localhost:8080/",
          "height": 1000
        },
        "id": "i62ZnW54D8Jr",
        "outputId": "956a3e1e-9089-428a-8faa-f9f4e4702a99"
      },
      "execution_count": 68,
      "outputs": [
        {
          "output_type": "execute_result",
          "data": {
            "text/plain": [
              "<IPython.core.display.Markdown object>"
            ],
            "text/markdown": "You are a Financial Market Expert and Get the Market Economic Data and Market News about Company and Build the Financial Report for me.\n              Understand this Market Information : 0\nsymbol: MSFT\nname: Microsoft Corporation\n\nearningsAnnouncement: 2025-04-30 10:59:00+00:00 and Answer the Query for this Company Microsoft(MSFT) Financial Report. i just need the data into Tabular Form as well.|\n\n| Metric | Value | Unit |\n|---|---|---|\n| **Market Capitalization** | 2,233,668,800,000 | USD |\n| **Enterprise Value** | 2,377,547,200,000 | USD |\n| **Revenue (TTM)** | 168,088,000,000 | USD |\n| **Net Income (TTM)** | 61,274,000,000 | USD |\n| **Earnings per Share (TTM)** | 2.45 | USD |\n| **Book Value per Share** | 11.53 | USD |\n| **Dividend per Share (TTM)** | 2.56 | USD |\n| **Dividend Yield** | 0.60% |  |\n| **Price to Earnings Ratio** | 29.47 |  |\n| **Price to Book Ratio** | 10.23 |  |\n| **Price to Sales Ratio** | 13.33 |  |\n| **Return on Equity (TTM)** | 17.92% |  |\n| **Return on Assets (TTM)** | 11.34% |  |\n| **Debt to Equity Ratio** | 0.44 |  |\n| **Current Ratio** | 1.40 |  |\n| **Quick Ratio** | 1.32 |  |\n| **Free Cash Flow (TTM)** | 57,424,000,000 | USD |\n| **Free Cash Flow Yield** | 2.57% |  |\n| **Earnings Growth (5Y)** | 11.90% |  |\n| **Revenue Growth (5Y)** | 12.60% |  |\n| **Analyst Recommendation** | 1.80 | (1=Strong Buy, 5=Strong Sell) |\n| **Average Volume (3M)** | 45,750,000 | Shares |\n| **Shares Outstanding** | 25,000,000,000 | Shares |\n| **Insider Ownership** | 0.10% |  |\n| **Institutional Ownership** | 72.40% |  |\n| **Beta (5Y)** | 1.04 |  |\n| **52-Week Range** | 203.11 - 349.68 | USD |\n| **52-Week Change** | 69.57% |  |\n| **YTD Change** | 15.31% |  |\n| **Earnings Announcement Date** | 2025-04-30 10:59:00+00:00 |  |"
          },
          "metadata": {},
          "execution_count": 68
        }
      ]
    },
    {
      "cell_type": "markdown",
      "source": [
        "# **Using NEWS API to Build Financial News Summarizer about the Company Sentiment in Current Time**"
      ],
      "metadata": {
        "id": "cNpFaattGiMA"
      }
    },
    {
      "cell_type": "markdown",
      "source": [
        " ### Fetchning the Latest Data using the NEWSAPI with the help of API Key from there website.\n",
        "\n",
        " **Problem Statment:** Building a GenAI based system that can analyse the market news about the whole stock exchange or a company and tell me about the sentiment of market along with analysis based on news.\n",
        "\n",
        "**Project Methodology**\n",
        "- This Project using the open source API to fetch the latest financial news regarding Company and Market.\n",
        "- Using Python, that fetched data is pre-processed and saved in CSV File.\n",
        "- Loading that same CSV file to insert into Vector DB using Embedding Model from Hugging Face.\n",
        "- Building RAG QA Chain using Langchain and building the RAG architecture using Falcon 7B LLM (Open Source).\n",
        "- Checking the Response."
      ],
      "metadata": {
        "id": "465DE_zK1YUy"
      }
    },
    {
      "cell_type": "code",
      "source": [
        "pip install newsapi-python"
      ],
      "metadata": {
        "colab": {
          "base_uri": "https://localhost:8080/"
        },
        "id": "_5bk3_2iLSv6",
        "outputId": "a8e95f80-e10a-4816-d5f9-56ff2a0dcfc8"
      },
      "execution_count": 69,
      "outputs": [
        {
          "output_type": "stream",
          "name": "stdout",
          "text": [
            "Requirement already satisfied: newsapi-python in /usr/local/lib/python3.11/dist-packages (0.2.7)\n",
            "Requirement already satisfied: requests<3.0.0 in /usr/local/lib/python3.11/dist-packages (from newsapi-python) (2.32.3)\n",
            "Requirement already satisfied: charset-normalizer<4,>=2 in /usr/local/lib/python3.11/dist-packages (from requests<3.0.0->newsapi-python) (3.4.1)\n",
            "Requirement already satisfied: idna<4,>=2.5 in /usr/local/lib/python3.11/dist-packages (from requests<3.0.0->newsapi-python) (3.10)\n",
            "Requirement already satisfied: urllib3<3,>=1.21.1 in /usr/local/lib/python3.11/dist-packages (from requests<3.0.0->newsapi-python) (2.3.0)\n",
            "Requirement already satisfied: certifi>=2017.4.17 in /usr/local/lib/python3.11/dist-packages (from requests<3.0.0->newsapi-python) (2025.1.31)\n"
          ]
        }
      ]
    },
    {
      "cell_type": "code",
      "source": [
        "import requests\n",
        "import pandas as pd\n",
        "from newsapi import NewsApiClient  # Corrected import\n",
        "from datetime import datetime, timedelta\n",
        "\n",
        "def fetch_news(query, from_date, to_date, language='en', sort_by='relevancy', page_size=30, api_key='YOUR_API_KEY'):\n",
        "    # Initialize the NewsAPI client\n",
        "    newsapi = NewsApiClient(api_key=api_key)\n",
        "\n",
        "    # Fetch all articles matching the query\n",
        "    all_articles = newsapi.get_everything(\n",
        "        q=query,\n",
        "        from_param=from_date,\n",
        "        to=to_date,\n",
        "        language=language,\n",
        "        sort_by=sort_by,\n",
        "        page_size=page_size\n",
        "    )\n",
        "\n",
        "    # Extract articles\n",
        "    articles = all_articles.get('articles', [])\n",
        "\n",
        "    # Convert to DataFrame\n",
        "    if articles:\n",
        "        df = pd.DataFrame(articles)\n",
        "        return df\n",
        "    else:\n",
        "        return pd.DataFrame()  # Return an empty DataFrame if no articles are found\n",
        "\n",
        "# Get the current time\n",
        "current_time = datetime.now()\n",
        "# Get the time 10 days ago\n",
        "time_10_days_ago = current_time - timedelta(days=10)\n",
        "api_key = 'c0e23a8956cf4b54af382abd932f88ff'\n",
        "q = \"Apple News Report for February 2025\"\n",
        "df = fetch_news(q, time_10_days_ago, current_time, api_key=api_key)\n",
        "\n",
        "if not df.empty:\n",
        "    df_news = df.drop(\"source\", axis=1)\n",
        "\n",
        "    def preprocess_news_data(df):\n",
        "        # Convert publishedAt to datetime\n",
        "        df['publishedAt'] = pd.to_datetime(df['publishedAt'])\n",
        "        df = df[~df['author'].isna()]\n",
        "        df = df[['author', 'title']]\n",
        "        return df\n",
        "\n",
        "    preprocessed_news_df = preprocess_news_data(df_news)\n",
        "    print(preprocessed_news_df.head())\n",
        "else:\n",
        "    print(\"No articles found.\")"
      ],
      "metadata": {
        "colab": {
          "base_uri": "https://localhost:8080/"
        },
        "id": "ZPvl-5XpD-BI",
        "outputId": "af46bb7a-f435-4075-c930-161bd7805808"
      },
      "execution_count": 75,
      "outputs": [
        {
          "output_type": "stream",
          "name": "stdout",
          "text": [
            "                                              author  \\\n",
            "0             Corbin Hiar, Sara Schonhardt, E&E News   \n",
            "1                                    Sead Fadilpašić   \n",
            "2  Derek Saul, Forbes Staff, \\n Derek Saul, Forbe...   \n",
            "3                                    Aishwarya Kumar   \n",
            "4           info@thehackernews.com (The Hacker News)   \n",
            "\n",
            "                                               title  \n",
            "0  Big Business Backs Away from Tackling Climate ...  \n",
            "1  Apple fixes dangerous zero-day used in attacks...  \n",
            "2  Stock Market Comeback Erased: S&P 500 Sinks To...  \n",
            "3  Why astronaut Suni Williams runs in space: a 1...  \n",
            "4  ⚡ THN Weekly Recap: New Attacks, Old Tricks, B...  \n"
          ]
        }
      ]
    },
    {
      "cell_type": "markdown",
      "source": [
        "### Pre-Processing the Data"
      ],
      "metadata": {
        "id": "VUf3dwOp1hJb"
      }
    },
    {
      "cell_type": "code",
      "source": [
        "def build_prompt(news_df):\n",
        "    prompt = \"You are a financial analyst tasked with providing insights into recent news articles related to the financial industry. Here are some recent news articles:\\n\\n\"\n",
        "\n",
        "    for index, row in news_df.iterrows():\n",
        "        title = row['title']\n",
        "        prompt += f\"   **News:** {title}\\n\\n\"\n",
        "\n",
        "    prompt += \"Please analyze these articles and provide insights into any potential impacts on the financial industry Sentiment on the provided company.\"\n",
        "\n",
        "    return prompt\n",
        "\n",
        "# Build the prompt\n",
        "prompt = build_prompt(preprocessed_news_df)\n",
        "print(prompt)"
      ],
      "metadata": {
        "id": "BN5FV809Gtsk",
        "colab": {
          "base_uri": "https://localhost:8080/"
        },
        "outputId": "0b48f7e9-0ad1-457f-a370-adb6ecf12490"
      },
      "execution_count": 76,
      "outputs": [
        {
          "output_type": "stream",
          "name": "stdout",
          "text": [
            "You are a financial analyst tasked with providing insights into recent news articles related to the financial industry. Here are some recent news articles:\n",
            "\n",
            "   **News:** Big Business Backs Away from Tackling Climate Change as Trump Axes Environmental Efforts\n",
            "\n",
            "   **News:** Apple fixes dangerous zero-day used in attacks against iPhones and iPads\n",
            "\n",
            "   **News:** Stock Market Comeback Erased: S&P 500 Sinks To 6-Month Low As Trump Says Don’t ‘Watch The Stock Market’\n",
            "\n",
            "   **News:** Why astronaut Suni Williams runs in space: a 14-billion-year odyssey\n",
            "\n",
            "   **News:** ⚡ THN Weekly Recap: New Attacks, Old Tricks, Bigger Impact\n",
            "\n",
            "   **News:** Even as US slashes jobs, ‘it is the calm before the storm’, economists warn\n",
            "\n",
            "   **News:** Medusa ransomware hit over 300 critical infrastructure organizations until February 2025\n",
            "\n",
            "   **News:** A Fed meeting and retail sales data greet a flailing stock market: What to know this week\n",
            "\n",
            "   **News:** Apple fixed the third actively exploited zero-day of 2025\n",
            "\n",
            "   **News:** The Blogger Who Upended a Murder Trial\n",
            "\n",
            "   **News:** North Korea-linked APT Moonstone used Qilin ransomware in limited attacks\n",
            "\n",
            "   **News:** Switzerland’s NCSC requires cyberattack reporting for critical infrastructure within 24 hours\n",
            "\n",
            "   **News:** U.S. CISA adds Apple products and Juniper Junos OS flaws to its Known Exploited Vulnerabilities catalog\n",
            "\n",
            "   **News:** This week on \"Sunday Morning\" (March 16)\n",
            "\n",
            "   **News:** Microsoft Patch Tuesday security updates for March 2025 fix six actively exploited zero-days\n",
            "\n",
            "   **News:** Japanese telecom giant NTT suffered a data breach that impacted 18,000 companies\n",
            "\n",
            "   **News:** GitLab addressed critical auth bypass flaws in CE and EE\n",
            "\n",
            "   **News:** Meta warns of actively exploited flaw in FreeType library\n",
            "\n",
            "   **News:** Cisco IOS XR flaw allows attackers to crash BGP process on routers\n",
            "\n",
            "   **News:** Elon Musk blames a massive cyberattack for the X outages\n",
            "\n",
            "   **News:** Denmark warns of increased state-sponsored campaigns targeting the European telcos\n",
            "\n",
            "   **News:** New MassJacker clipper targets pirated software seekers\n",
            "\n",
            "   **News:** Rep. Josh Gottheimer Sells Apple Inc. (NASDAQ:AAPL) Stock\n",
            "\n",
            "   **News:** Sen. Shelley Moore Capito Sells Off Shares of Apple Inc. (NASDAQ:AAPL)\n",
            "\n",
            "   **News:** SuperBlack Ransomware operators exploit Fortinet Firewall flaws in recent attacks\n",
            "\n",
            "   **News:** Experts warn of a coordinated surge in the exploitation attempts of SSRF vulnerabilities\n",
            "\n",
            "   **News:** U.S. CISA adds six Microsoft Windows flaws to its Known Exploited Vulnerabilities catalog\n",
            "\n",
            "   **News:** Experts warn of mass exploitation of critical PHP flaw CVE-2024-4577\n",
            "\n",
            "   **News:** Zacks Research Predicts Hyatt Hotels’ Q2 Earnings (NYSE:H)\n",
            "\n",
            "   **News:** LockBit ransomware developer Rostislav Panev was extradited from Israel to the U.S.\n",
            "\n",
            "Please analyze these articles and provide insights into any potential impacts on the financial industry Sentiment on the provided company.\n"
          ]
        }
      ]
    },
    {
      "cell_type": "markdown",
      "source": [
        "### LLM from Hugging Face Open Source"
      ],
      "metadata": {
        "id": "U9bpPeaE1jQi"
      }
    },
    {
      "cell_type": "code",
      "source": [
        "from google.colab import userdata\n",
        "import os\n",
        "\n",
        "# Retrieve the API key securely\n",
        "api_key = userdata.get(\"api_key\")\n",
        "\n",
        "# # Set it as an environment variable\n",
        "# os.environ[\"HUGGINGFACEHUB_API_TOKEN\"] = api_key"
      ],
      "metadata": {
        "id": "L9yGTMPZtz__"
      },
      "execution_count": 80,
      "outputs": []
    },
    {
      "cell_type": "code",
      "source": [
        "from langchain_community.llms import HuggingFaceHub\n",
        "\n",
        "llm = HuggingFaceHub(\n",
        "    repo_id=\"tiiuae/falcon-7b-instruct\",\n",
        "    model_kwargs={\"temperature\": 0.1},\n",
        ")\n",
        "\n",
        "print(\"✅ Model Loaded Successfully!\")"
      ],
      "metadata": {
        "id": "ugBKl98nHAwA",
        "colab": {
          "base_uri": "https://localhost:8080/"
        },
        "outputId": "b5a91b06-1a20-4efd-9bb1-1508a7b60fc2"
      },
      "execution_count": 81,
      "outputs": [
        {
          "output_type": "stream",
          "name": "stdout",
          "text": [
            "✅ Model Loaded Successfully!\n"
          ]
        }
      ]
    },
    {
      "cell_type": "code",
      "source": [
        "Markdown(llm.invoke(prompt))"
      ],
      "metadata": {
        "colab": {
          "base_uri": "https://localhost:8080/",
          "height": 1000
        },
        "id": "OV_xMxsJHhhD",
        "outputId": "20aefa4b-f391-41b0-919a-e6bd2f570a0a"
      },
      "execution_count": 82,
      "outputs": [
        {
          "output_type": "execute_result",
          "data": {
            "text/plain": [
              "<IPython.core.display.Markdown object>"
            ],
            "text/markdown": "You are a financial analyst tasked with providing insights into recent news articles related to the financial industry. Here are some recent news articles:\n\n   **News:** Big Business Backs Away from Tackling Climate Change as Trump Axes Environmental Efforts\n\n   **News:** Apple fixes dangerous zero-day used in attacks against iPhones and iPads\n\n   **News:** Stock Market Comeback Erased: S&P 500 Sinks To 6-Month Low As Trump Says Don’t ‘Watch The Stock Market’\n\n   **News:** Why astronaut Suni Williams runs in space: a 14-billion-year odyssey\n\n   **News:** ⚡ THN Weekly Recap: New Attacks, Old Tricks, Bigger Impact\n\n   **News:** Even as US slashes jobs, ‘it is the calm before the storm’, economists warn\n\n   **News:** Medusa ransomware hit over 300 critical infrastructure organizations until February 2025\n\n   **News:** A Fed meeting and retail sales data greet a flailing stock market: What to know this week\n\n   **News:** Apple fixed the third actively exploited zero-day of 2025\n\n   **News:** The Blogger Who Upended a Murder Trial\n\n   **News:** North Korea-linked APT Moonstone used Qilin ransomware in limited attacks\n\n   **News:** Switzerland’s NCSC requires cyberattack reporting for critical infrastructure within 24 hours\n\n   **News:** U.S. CISA adds Apple products and Juniper Junos OS flaws to its Known Exploited Vulnerabilities catalog\n\n   **News:** This week on \"Sunday Morning\" (March 16)\n\n   **News:** Microsoft Patch Tuesday security updates for March 2025 fix six actively exploited zero-days\n\n   **News:** Japanese telecom giant NTT suffered a data breach that impacted 18,000 companies\n\n   **News:** GitLab addressed critical auth bypass flaws in CE and EE\n\n   **News:** Meta warns of actively exploited flaw in FreeType library\n\n   **News:** Cisco IOS XR flaw allows attackers to crash BGP process on routers\n\n   **News:** Elon Musk blames a massive cyberattack for the X outages\n\n   **News:** Denmark warns of increased state-sponsored campaigns targeting the European telcos\n\n   **News:** New MassJacker clipper targets pirated software seekers\n\n   **News:** Rep. Josh Gottheimer Sells Apple Inc. (NASDAQ:AAPL) Stock\n\n   **News:** Sen. Shelley Moore Capito Sells Off Shares of Apple Inc. (NASDAQ:AAPL)\n\n   **News:** SuperBlack Ransomware operators exploit Fortinet Firewall flaws in recent attacks\n\n   **News:** Experts warn of a coordinated surge in the exploitation attempts of SSRF vulnerabilities\n\n   **News:** U.S. CISA adds six Microsoft Windows flaws to its Known Exploited Vulnerabilities catalog\n\n   **News:** Experts warn of mass exploitation of critical PHP flaw CVE-2024-4577\n\n   **News:** Zacks Research Predicts Hyatt Hotels’ Q2 Earnings (NYSE:H)\n\n   **News:** LockBit ransomware developer Rostislav Panev was extradited from Israel to the U.S.\n\nPlease analyze these articles and provide insights into any potential impacts on the financial industry Sentiment on the provided company. Here are some specific questions to guide your analysis:\n\n1. **Market Sentiment:** How do the recent news articles influence the overall market sentiment? Are there any significant trends or patterns emerging from the news that could impact the financial industry as a whole?\n\n2. **Company-specific Sentiment:** For the companies mentioned in the news articles (Apple, Microsoft, Cisco, NTT, GitLab, Meta, Fortinet, Hyatt Hotels), what are the potential impacts on their stock prices and overall business performance based on the recent news? Are there any notable insider trading activities (e.g., Rep. Josh Gottheimer and Sen. Shelley Moore Capito selling Apple stocks)?\n\n3. **Sector-specific Sentiment:** How do the news articles affect the sentiment towards specific sectors within the financial industry, such as technology, cybersecurity, or hospitality?\n\n4. **Geopolitical Sentiment:** Are there any geopolitical implications in the news articles that could influence the financial industry, either directly or indirectly?\n\n5. **Regulatory Sentiment:** How do regulatory changes or actions (e.g., Switzerland's NCSC requiring cyberattack reporting, U.S. CISA adding vulnerabilities to its catalog) impact the financial industry and the companies mentioned in the news articles?\n\n6. **Economic Sentiment:** How do economic indicators and trends (e.g., job slashing, retail sales data) mentioned in the news articles influence the financial industry and the companies mentioned in the news articles?\n\n7. **Cybersecurity Sentiment:** With the increasing number of cybersecurity incidents and vulnerabilities mentioned in the news articles, how does this trend impact the financial industry, particularly the technology and cybersecurity sectors?\n\n8. **ESG Sentiment:** How do environmental, social, and governance (ESG) factors, such as climate change and social issues, influence the financial industry and the companies mentioned in the news articles?\n\nBased on your analysis, provide a summary of the potential impacts on the financial industry, company-specific sentiments, and any other relevant insights."
          },
          "metadata": {},
          "execution_count": 82
        }
      ]
    },
    {
      "cell_type": "markdown",
      "source": [
        "# **Financial Data Investment Advisor**\n",
        "\n",
        "**Problem Statment:** Building a Financial Advisor based on the Data that gathered from various financial advices in dataset from Stocks to mutual funds to gold or silver bonds as well using Python, Langchain and LLM (open source).\n",
        "\n",
        "**Project Methodology**\n",
        "- This Project using the Open Source Data from Kaggle regarding financial advices.\n",
        "- Using Python, that load data and then pre-processed and saved in CSV File.\n",
        "- Loading that same CSV file to insert into Vector DB using Embedding Model from Hugging Face.\n",
        "- Building RAG QA Chain using Langchain and building the RAG architecture using Falcon 7B LLM (Open Source).\n",
        "- Checking the Response.\n",
        "\n",
        "\n",
        "![](https://media.licdn.com/dms/image/D5612AQFSyeoRrkC5fw/article-cover_image-shrink_720_1280/0/1701189671766?e=2147483647&v=beta&t=cpa6wlGMWG44ZyGW6MWyKZ2Vr0BT-G1zlb8RB0yio6w)"
      ],
      "metadata": {
        "id": "-FdO0jQdLkaW"
      }
    },
    {
      "cell_type": "markdown",
      "source": [
        "## **Loading the Financial Data from Kaggle or Any Open Source Platform**\n",
        "\n",
        "Data Source - https://www.kaggle.com/datasets/nitindatta/finance-data"
      ],
      "metadata": {
        "id": "c0IWX7yB1nAp"
      }
    },
    {
      "cell_type": "code",
      "source": [
        "import kagglehub\n",
        "\n",
        "# Download latest version\n",
        "path = kagglehub.dataset_download(\"nitindatta/finance-data\")\n",
        "\n",
        "print(\"Path to dataset files:\", path)"
      ],
      "metadata": {
        "colab": {
          "base_uri": "https://localhost:8080/"
        },
        "id": "GfD_oQzIz7h0",
        "outputId": "b93511c9-0665-45f5-eafd-2a17e0ced93e"
      },
      "execution_count": null,
      "outputs": [
        {
          "output_type": "stream",
          "name": "stdout",
          "text": [
            "Path to dataset files: /root/.cache/kagglehub/datasets/nitindatta/finance-data/versions/1\n"
          ]
        }
      ]
    },
    {
      "cell_type": "code",
      "source": [
        "data = pd.read_csv(\"/content/Finance_data.csv\")\n",
        "data_fin = data.to_dict(orient='records')"
      ],
      "metadata": {
        "id": "RfpUWvICHqSG"
      },
      "execution_count": null,
      "outputs": []
    },
    {
      "cell_type": "code",
      "source": [
        "for entry in data_fin:\n",
        "  prompt = f\"I'm a {entry['age']}-year-old {entry['gender']} looking to invest in {entry['Avenue']} for {entry['Purpose']} over the next {entry['Duration']}. What are my options?\"\n",
        "  print(prompt)"
      ],
      "metadata": {
        "id": "HwgRMUJ7LLup",
        "colab": {
          "base_uri": "https://localhost:8080/"
        },
        "outputId": "1a290e20-310a-4a80-e8c2-7e5f4cf9c6d8"
      },
      "execution_count": null,
      "outputs": [
        {
          "output_type": "stream",
          "name": "stdout",
          "text": [
            "I'm a 34-year-old Female looking to invest in Mutual Fund for Wealth Creation over the next 1-3 years. What are my options?\n",
            "I'm a 23-year-old Female looking to invest in Mutual Fund for Wealth Creation over the next More than 5 years. What are my options?\n",
            "I'm a 30-year-old Male looking to invest in Equity for Wealth Creation over the next 3-5 years. What are my options?\n",
            "I'm a 22-year-old Male looking to invest in Equity for Wealth Creation over the next Less than 1 year. What are my options?\n",
            "I'm a 24-year-old Female looking to invest in Equity for Wealth Creation over the next Less than 1 year. What are my options?\n",
            "I'm a 24-year-old Female looking to invest in Mutual Fund for Wealth Creation over the next 1-3 years. What are my options?\n",
            "I'm a 27-year-old Female looking to invest in Equity for Wealth Creation over the next 3-5 years. What are my options?\n",
            "I'm a 21-year-old Male looking to invest in Mutual Fund for Wealth Creation over the next 3-5 years. What are my options?\n",
            "I'm a 35-year-old Male looking to invest in Equity for Savings for Future over the next 1-3 years. What are my options?\n",
            "I'm a 31-year-old Male looking to invest in Fixed Deposits for Wealth Creation over the next 3-5 years. What are my options?\n",
            "I'm a 35-year-old Female looking to invest in Mutual Fund for Savings for Future over the next 3-5 years. What are my options?\n",
            "I'm a 29-year-old Male looking to invest in Mutual Fund for Wealth Creation over the next 1-3 years. What are my options?\n",
            "I'm a 21-year-old Female looking to invest in Mutual Fund for Savings for Future over the next 1-3 years. What are my options?\n",
            "I'm a 28-year-old Female looking to invest in Mutual Fund for Wealth Creation over the next 1-3 years. What are my options?\n",
            "I'm a 25-year-old Female looking to invest in Fixed Deposits for Wealth Creation over the next 1-3 years. What are my options?\n",
            "I'm a 27-year-old Male looking to invest in Mutual Fund for Wealth Creation over the next 1-3 years. What are my options?\n",
            "I'm a 28-year-old Female looking to invest in Fixed Deposits for Wealth Creation over the next 1-3 years. What are my options?\n",
            "I'm a 27-year-old Male looking to invest in Mutual Fund for Wealth Creation over the next 1-3 years. What are my options?\n",
            "I'm a 29-year-old Male looking to invest in Mutual Fund for Wealth Creation over the next 1-3 years. What are my options?\n",
            "I'm a 26-year-old Male looking to invest in Fixed Deposits for Wealth Creation over the next 3-5 years. What are my options?\n",
            "I'm a 29-year-old Male looking to invest in Mutual Fund for Wealth Creation over the next 3-5 years. What are my options?\n",
            "I'm a 24-year-old Female looking to invest in Equity for Wealth Creation over the next 3-5 years. What are my options?\n",
            "I'm a 27-year-old Male looking to invest in Mutual Fund for Wealth Creation over the next 3-5 years. What are my options?\n",
            "I'm a 25-year-old Male looking to invest in Public Provident Fund for Savings for Future over the next 3-5 years. What are my options?\n",
            "I'm a 26-year-old Female looking to invest in Public Provident Fund for Wealth Creation over the next 3-5 years. What are my options?\n",
            "I'm a 32-year-old Female looking to invest in Mutual Fund for Wealth Creation over the next 3-5 years. What are my options?\n",
            "I'm a 26-year-old Male looking to invest in Mutual Fund for Wealth Creation over the next 3-5 years. What are my options?\n",
            "I'm a 31-year-old Male looking to invest in Fixed Deposits for Savings for Future over the next 1-3 years. What are my options?\n",
            "I'm a 29-year-old Male looking to invest in Equity for Wealth Creation over the next 1-3 years. What are my options?\n",
            "I'm a 34-year-old Female looking to invest in Mutual Fund for Returns over the next 3-5 years. What are my options?\n",
            "I'm a 27-year-old Male looking to invest in Mutual Fund for Wealth Creation over the next 1-3 years. What are my options?\n",
            "I'm a 31-year-old Female looking to invest in Fixed Deposits for Wealth Creation over the next 3-5 years. What are my options?\n",
            "I'm a 27-year-old Male looking to invest in Equity for Wealth Creation over the next 3-5 years. What are my options?\n",
            "I'm a 26-year-old Male looking to invest in Fixed Deposits for Returns over the next 1-3 years. What are my options?\n",
            "I'm a 27-year-old Male looking to invest in Mutual Fund for Wealth Creation over the next 1-3 years. What are my options?\n",
            "I'm a 30-year-old Male looking to invest in Fixed Deposits for Wealth Creation over the next 3-5 years. What are my options?\n",
            "I'm a 30-year-old Male looking to invest in Equity for Wealth Creation over the next 1-3 years. What are my options?\n",
            "I'm a 25-year-old Male looking to invest in Public Provident Fund for Savings for Future over the next 3-5 years. What are my options?\n",
            "I'm a 31-year-old Male looking to invest in Equity for Wealth Creation over the next 1-3 years. What are my options?\n",
            "I'm a 29-year-old Male looking to invest in Fixed Deposits for Wealth Creation over the next 3-5 years. What are my options?\n"
          ]
        }
      ]
    },
    {
      "cell_type": "markdown",
      "source": [
        "### Pre-Processng the Data into Prompt-Response Format"
      ],
      "metadata": {
        "id": "FBaVWGci1zce"
      }
    },
    {
      "cell_type": "code",
      "source": [
        "# Convert the data to prompt-response format\n",
        "prompt_response_data = []\n",
        "for entry in data_fin:\n",
        "    prompt = f\"I'm a {entry['age']}-year-old {entry['gender']} looking to invest in {entry['Avenue']} for {entry['Purpose']} over the next {entry['Duration']}. What are my options?\"\n",
        "    response = (\n",
        "        f\"Based on your preferences, here are your investment options:\\n\"\n",
        "        f\"- Mutual Funds: {entry['Mutual_Funds']}\\n\"\n",
        "        f\"- Equity Market: {entry['Equity_Market']}\\n\"\n",
        "        f\"- Debentures: {entry['Debentures']}\\n\"\n",
        "        f\"- Government Bonds: {entry['Government_Bonds']}\\n\"\n",
        "        f\"- Fixed Deposits: {entry['Fixed_Deposits']}\\n\"\n",
        "        f\"- PPF: {entry['PPF']}\\n\"\n",
        "        f\"- Gold: {entry['Gold']}\\n\"\n",
        "        f\"Factors considered: {entry['Factor']}\\n\"\n",
        "        f\"Objective: {entry['Objective']}\\n\"\n",
        "        f\"Expected returns: {entry['Expect']}\\n\"\n",
        "        f\"Investment monitoring: {entry['Invest_Monitor']}\\n\"\n",
        "        f\"Reasons for choices:\\n\"\n",
        "        f\"- Equity: {entry['Reason_Equity']}\\n\"\n",
        "        f\"- Mutual Funds: {entry['Reason_Mutual']}\\n\"\n",
        "        f\"- Bonds: {entry['Reason_Bonds']}\\n\"\n",
        "        f\"- Fixed Deposits: {entry['Reason_FD']}\\n\"\n",
        "        f\"Source of information: {entry['Source']}\\n\"\n",
        "    )\n",
        "    prompt_response_data.append({\"prompt\": prompt, \"response\": response})\n",
        "\n",
        "prompt_response_data[:5]"
      ],
      "metadata": {
        "colab": {
          "base_uri": "https://localhost:8080/"
        },
        "id": "Sv9VRzBDKjHM",
        "outputId": "04fb00f8-31b6-4f4d-aba0-e453cbb753b8"
      },
      "execution_count": null,
      "outputs": [
        {
          "output_type": "execute_result",
          "data": {
            "text/plain": [
              "[{'prompt': \"I'm a 34-year-old Female looking to invest in Mutual Fund for Wealth Creation over the next 1-3 years. What are my options?\",\n",
              "  'response': 'Based on your preferences, here are your investment options:\\n- Mutual Funds: 1\\n- Equity Market: 2\\n- Debentures: 5\\n- Government Bonds: 3\\n- Fixed Deposits: 7\\n- PPF: 6\\n- Gold: 4\\nFactors considered: Returns\\nObjective: Capital Appreciation\\nExpected returns: 20%-30%\\nInvestment monitoring: Monthly\\nReasons for choices:\\n- Equity: Capital Appreciation\\n- Mutual Funds: Better Returns\\n- Bonds: Safe Investment\\n- Fixed Deposits: Fixed Returns\\nSource of information: Newspapers and Magazines\\n'},\n",
              " {'prompt': \"I'm a 23-year-old Female looking to invest in Mutual Fund for Wealth Creation over the next More than 5 years. What are my options?\",\n",
              "  'response': 'Based on your preferences, here are your investment options:\\n- Mutual Funds: 4\\n- Equity Market: 3\\n- Debentures: 2\\n- Government Bonds: 1\\n- Fixed Deposits: 5\\n- PPF: 6\\n- Gold: 7\\nFactors considered: Locking Period\\nObjective: Capital Appreciation\\nExpected returns: 20%-30%\\nInvestment monitoring: Weekly\\nReasons for choices:\\n- Equity: Dividend\\n- Mutual Funds: Better Returns\\n- Bonds: Safe Investment\\n- Fixed Deposits: High Interest Rates\\nSource of information: Financial Consultants\\n'},\n",
              " {'prompt': \"I'm a 30-year-old Male looking to invest in Equity for Wealth Creation over the next 3-5 years. What are my options?\",\n",
              "  'response': 'Based on your preferences, here are your investment options:\\n- Mutual Funds: 3\\n- Equity Market: 6\\n- Debentures: 4\\n- Government Bonds: 2\\n- Fixed Deposits: 5\\n- PPF: 1\\n- Gold: 7\\nFactors considered: Returns\\nObjective: Capital Appreciation\\nExpected returns: 20%-30%\\nInvestment monitoring: Daily\\nReasons for choices:\\n- Equity: Capital Appreciation\\n- Mutual Funds: Tax Benefits\\n- Bonds: Assured Returns\\n- Fixed Deposits: Fixed Returns\\nSource of information: Television\\n'},\n",
              " {'prompt': \"I'm a 22-year-old Male looking to invest in Equity for Wealth Creation over the next Less than 1 year. What are my options?\",\n",
              "  'response': 'Based on your preferences, here are your investment options:\\n- Mutual Funds: 2\\n- Equity Market: 1\\n- Debentures: 3\\n- Government Bonds: 7\\n- Fixed Deposits: 6\\n- PPF: 4\\n- Gold: 5\\nFactors considered: Returns\\nObjective: Income\\nExpected returns: 10%-20%\\nInvestment monitoring: Daily\\nReasons for choices:\\n- Equity: Dividend\\n- Mutual Funds: Fund Diversification\\n- Bonds: Tax Incentives\\n- Fixed Deposits: High Interest Rates\\nSource of information: Internet\\n'},\n",
              " {'prompt': \"I'm a 24-year-old Female looking to invest in Equity for Wealth Creation over the next Less than 1 year. What are my options?\",\n",
              "  'response': 'Based on your preferences, here are your investment options:\\n- Mutual Funds: 2\\n- Equity Market: 1\\n- Debentures: 3\\n- Government Bonds: 6\\n- Fixed Deposits: 4\\n- PPF: 5\\n- Gold: 7\\nFactors considered: Returns\\nObjective: Income\\nExpected returns: 20%-30%\\nInvestment monitoring: Daily\\nReasons for choices:\\n- Equity: Capital Appreciation\\n- Mutual Funds: Better Returns\\n- Bonds: Safe Investment\\n- Fixed Deposits: Risk Free\\nSource of information: Internet\\n'}]"
            ]
          },
          "metadata": {},
          "execution_count": 37
        }
      ]
    },
    {
      "cell_type": "markdown",
      "source": [
        "### Storing Data into Vector DB"
      ],
      "metadata": {
        "id": "0nFwqS8q12qa"
      }
    },
    {
      "cell_type": "code",
      "source": [
        "from langchain.docstore.document import Document\n",
        "documents = []\n",
        "for entry in prompt_response_data:\n",
        "    combined_text = f\"Prompt: {entry['prompt']}\\nResponse: {entry['response']}\"\n",
        "    documents.append(Document(page_content=combined_text))"
      ],
      "metadata": {
        "id": "x-R2xXZzMV-7"
      },
      "execution_count": null,
      "outputs": []
    },
    {
      "cell_type": "code",
      "source": [
        "text_splitter = RecursiveCharacterTextSplitter(chunk_size=100, chunk_overlap=10)\n",
        "texts = text_splitter.split_documents(documents)"
      ],
      "metadata": {
        "id": "sHxeWfw7OSFF"
      },
      "execution_count": null,
      "outputs": []
    },
    {
      "cell_type": "code",
      "source": [
        "from langchain.vectorstores import Chroma\n",
        "persist_directory = 'docs/chroma/'\n",
        "vectordb_fin = Chroma.from_documents(\n",
        "    documents=texts,\n",
        "    embedding=hg_embeddings,\n",
        "    persist_directory=persist_directory\n",
        ")"
      ],
      "metadata": {
        "id": "sgj7HDzoOHmx"
      },
      "execution_count": null,
      "outputs": []
    },
    {
      "cell_type": "markdown",
      "source": [
        "### Building RAG System using VectorDB and LLM"
      ],
      "metadata": {
        "id": "-GyrpvYx16I1"
      }
    },
    {
      "cell_type": "code",
      "source": [
        "from langchain.chains import RetrievalQA\n",
        "retriever_fin = vectordb_fin.as_retriever(search_kwargs={\"k\":5})\n",
        "qa = RetrievalQA.from_chain_type(\n",
        "    llm=llm, chain_type=\"stuff\", retriever=retriever_fin, return_source_documents=False)\n",
        "query = \"I'm a 34-year-old female looking to invest in mutual funds for wealth creation over the next 1-3 years. What are my options?\"\n",
        "result = qa({\"query\": query})\n",
        "result"
      ],
      "metadata": {
        "colab": {
          "base_uri": "https://localhost:8080/"
        },
        "id": "-_37Y0BlOfTL",
        "outputId": "119778ad-4a9c-4499-cbee-7075dbaf92a9"
      },
      "execution_count": null,
      "outputs": [
        {
          "output_type": "execute_result",
          "data": {
            "text/plain": [
              "{'query': \"I'm a 34-year-old female looking to invest in mutual funds for wealth creation over the next 1-3 years. What are my options?\",\n",
              " 'result': \"Use the following pieces of context to answer the question at the end. If you don't know the answer, just say that you don't know, don't try to make up an answer.\\n\\nPrompt: I'm a 34-year-old Female looking to invest in Mutual Fund for Wealth Creation over the next\\n\\nPrompt: I'm a 32-year-old Female looking to invest in Mutual Fund for Wealth Creation over the next\\n\\nPrompt: I'm a 28-year-old Female looking to invest in Mutual Fund for Wealth Creation over the next\\n\\nPrompt: I'm a 24-year-old Female looking to invest in Mutual Fund for Wealth Creation over the next\\n\\nPrompt: I'm a 29-year-old Male looking to invest in Mutual Fund for Wealth Creation over the next\\n\\nQuestion: I'm a 34-year-old female looking to invest in mutual funds for wealth creation over the next 1-3 years. What are my options?\\nHelpful Answer: As a 34-year-old female looking to invest in mutual funds for wealth creation over the next 1-3 years, you might consider the following options:\\n\\n1. **Equity Mutual Funds**: These funds primarily invest in stocks and have the potential for high returns, but they also come with higher risk. Given your investment horizon of 1-3 years, you might consider funds that focus on growth or mid-cap stocks.\\n\\n   - *Example*: Mirae Asset Emerging Bluechip Fund, SBI Magnum Midcap Fund\\n\\n2. **Debt Mutual Funds**: If you're risk-averse, debt funds could be a suitable option. They invest in fixed-income securities like bonds and offer lower risk and lower returns compared to equity funds.\\n\\n   - *Example*: HDFC Corporate Bond Fund, Aditya Birla Sun Life Short Duration Fund\\n\\n3. **Hybrid Mutual Funds**: These funds invest in a mix of equity and debt instruments, providing a balance between risk and return.\\n\\n   - *Example*: Parag Parikh Long Term Equity Fund, Axis Equity Hybrid Fund\\n\\n4. **Index Funds/ETFs**: These passively track a market index and are known for their low expense ratios. They can be a good option if you believe in the long-term growth of the market.\\n\\n   - *Example*: SBI ETF Nifty 50, UTI Nifty Index Fund\\n\\n5. **SIPs (Systematic Investment Plans)**: You can start a SIP in any of the above funds to invest a fixed amount regularly. This helps in rupee cost averaging and can be beneficial in the long run.\\n\\nBefore making a decision, consider your risk tolerance, financial goals, and investment horizon. It's always a good idea to consult with a financial advisor for personalized advice.\"}"
            ]
          },
          "metadata": {},
          "execution_count": 41
        }
      ]
    },
    {
      "cell_type": "code",
      "source": [],
      "metadata": {
        "id": "0y_iNbShvf12"
      },
      "execution_count": null,
      "outputs": []
    }
  ]
}